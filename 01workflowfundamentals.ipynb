{
 "cells": [
  {
   "attachments": {},
   "cell_type": "markdown",
   "metadata": {},
   "source": [
    "# 01. PyTorch Workflow Fundamentals\n",
    "\n",
    "Remember the essence of machine learning and deep learning is taking data from the past, building an algorithm to discover patterns and using those patterns to predict future outcomes.\n",
    "\n",
    "Main outline of steps:\n",
    "1. Get data ready (turn into tensors)\n",
    "2. Build or pick pretrained system \n",
    "  2.1 Pick a loss function and optimizer\n",
    "  2.2 Build a training loop\n",
    "3. Fit model to data and make prediction\n",
    "4. Evaluate the model\n",
    "5. Imrpove through experimentation\n",
    "6. Save and reload trained model"
   ]
  },
  {
   "cell_type": "code",
   "execution_count": 66,
   "metadata": {},
   "outputs": [
    {
     "data": {
      "text/plain": [
       "'1.13.1+cpu'"
      ]
     },
     "execution_count": 66,
     "metadata": {},
     "output_type": "execute_result"
    }
   ],
   "source": [
    "import torch\n",
    "from torch import nn # Building blocks for neural networks\n",
    "import matplotlib.pyplot as plt\n",
    "\n",
    "torch.__version__"
   ]
  },
  {
   "attachments": {},
   "cell_type": "markdown",
   "metadata": {},
   "source": [
    "## Data (preparing and loading)\n",
    "\n",
    "1. Turn data (could be anything) into numbers\n",
    "2. Pick or build model to learn the representation as best as possible\n",
    "\n",
    "\n",
    "Example\n",
    "- use linear regression to create data with known parameters\n",
    "- use PyTorch to see if we can build a model to estimate parameters using **gradient descent**"
   ]
  },
  {
   "cell_type": "code",
   "execution_count": 67,
   "metadata": {},
   "outputs": [
    {
     "data": {
      "text/plain": [
       "(tensor([[0.0000],\n",
       "         [0.0200],\n",
       "         [0.0400],\n",
       "         [0.0600],\n",
       "         [0.0800],\n",
       "         [0.1000],\n",
       "         [0.1200],\n",
       "         [0.1400],\n",
       "         [0.1600],\n",
       "         [0.1800]]),\n",
       " tensor([[0.3000],\n",
       "         [0.3140],\n",
       "         [0.3280],\n",
       "         [0.3420],\n",
       "         [0.3560],\n",
       "         [0.3700],\n",
       "         [0.3840],\n",
       "         [0.3980],\n",
       "         [0.4120],\n",
       "         [0.4260]]))"
      ]
     },
     "execution_count": 67,
     "metadata": {},
     "output_type": "execute_result"
    }
   ],
   "source": [
    "# Known parameters\n",
    "weight = 0.7\n",
    "bias = 0.3\n",
    "\n",
    "# Data\n",
    "start = 0\n",
    "end = 1\n",
    "step = 0.02\n",
    "X = torch.arange(start, end, step).unsqueeze(dim=1)\n",
    "y = weight * X + bias\n",
    "\n",
    "X[:10], y[:10]"
   ]
  },
  {
   "attachments": {},
   "cell_type": "markdown",
   "metadata": {},
   "source": [
    "Now build a model that can learn the relationship between `X` **(features)** and `y` **(labels)**.\n",
    "\n",
    "### Split data into training and test sets\n",
    "\n",
    "Before we build the model, we need to split the data.\n",
    "\n",
    "**Training set**\n",
    "- model learns from this data\n",
    "- usually 60-80%\n",
    "  \n",
    "**Validation set**\n",
    "- model gets tuned in on this data\n",
    "- usually 10-20%\n",
    "- used often, but not always\n",
    "\n",
    "**Testing set**\n",
    "- model gets evaluated on this data to test what has been learned\n",
    "- 10-20%, used always\n",
    "\n",
    "Training is kind of like studying for an exam, validation might be a practice exam and the testing set might be similar to the actual exam you take at the end."
   ]
  },
  {
   "cell_type": "code",
   "execution_count": 68,
   "metadata": {},
   "outputs": [
    {
     "data": {
      "text/plain": [
       "(40, 40, 10, 10)"
      ]
     },
     "execution_count": 68,
     "metadata": {},
     "output_type": "execute_result"
    }
   ],
   "source": [
    "train_split = int(0.8 * len(X)) # Split data 80-20\n",
    "X_train, y_train = X[:train_split], y[:train_split]\n",
    "X_test, y_test = X[train_split:], y[train_split:]\n",
    "\n",
    "len(X_train), len(y_train), len(X_test), len(y_test)"
   ]
  },
  {
   "attachments": {},
   "cell_type": "markdown",
   "metadata": {},
   "source": [
    "The model we make is going to try and learn the relationshi between `X_train` and `y_train`.\n",
    "\n",
    "Create a function to visualize the data:"
   ]
  },
  {
   "cell_type": "code",
   "execution_count": 69,
   "metadata": {},
   "outputs": [],
   "source": [
    "def plot_predictions(train_data=X_train,\n",
    "                     train_labels=y_train,\n",
    "                     test_data=X_test,\n",
    "                     test_labels=y_test,\n",
    "                     predictions=None):\n",
    "    plt.figure(figsize=(10,7))\n",
    "    \n",
    "    # Plot training data in blue\n",
    "    plt.scatter(train_data, train_labels, c=\"b\", s=4, label=\"Training data\")\n",
    "    \n",
    "    # Plot test data in green\n",
    "    plt.scatter(test_data, test_labels, c=\"g\", s=4, label=\"Testing data\")\n",
    "    \n",
    "    if predictions is not None:\n",
    "        # Plot predictions in red\n",
    "        plt.scatter(test_labels, predictions, c=\"r\", s=4, label=\"Predictions\")\n",
    "    \n",
    "    # Show the legend\n",
    "    plt.legend(prop={\"size\": 14})"
   ]
  },
  {
   "cell_type": "code",
   "execution_count": 70,
   "metadata": {},
   "outputs": [
    {
     "data": {
      "image/png": "[encoded data removed]",
      "text/plain": [
       "<Figure size 1000x700 with 1 Axes>"
      ]
     },
     "metadata": {},
     "output_type": "display_data"
    }
   ],
   "source": [
    "plot_predictions()"
   ]
  },
  {
   "attachments": {},
   "cell_type": "markdown",
   "metadata": {},
   "source": [
    "## 2. Build Model\n",
    "\n",
    "Now, build a model to use the blue dots to predict the green dots.\n",
    "\n",
    "Replicate a standard linear regression model using PyTorch:"
   ]
  },
  {
   "cell_type": "code",
   "execution_count": 71,
   "metadata": {},
   "outputs": [],
   "source": [
    "class LinearRegressionModel(nn.Module):\n",
    "    def __init__(self) -> None:\n",
    "        super().__init__()\n",
    "        # Start with random weights and biases -- these will get adjusted as the model learns\n",
    "        self.weights = nn.Parameter(torch.randn(1,\n",
    "                                                dtype=torch.float),\n",
    "                                    requires_grad=True)\n",
    "        self.bias = nn.Parameter(torch.randn(1,\n",
    "                                             dtype=torch.float),\n",
    "                                 requires_grad=True)\n",
    "    \n",
    "    def forward(self, x: torch.Tensor) -> torch.Tensor: # x is the input (training/testing features)\n",
    "        return self.weights * x + self.bias # This is the linear regression formula"
   ]
  },
  {
   "attachments": {},
   "cell_type": "markdown",
   "metadata": {},
   "source": [
    "### PyTorch model building essentials\n",
    "\n",
    "These are the four most essential PyTorch modules used for model building:\n",
    "\n",
    "**`torch.nn`** \\\n",
    "Contains all of the building blocks for computational graphs (a series of computations executed in a particular way)\n",
    "\n",
    "**`torch.nn.Parameter`** \\\n",
    "Stores tensors that can be used with `nn.Module`. If `requires_grad=True`, gradients are calculated automatically. These are used for updating model parameters via *gradient descent*.\n",
    "\n",
    "**`torch.nn.Module`** \\\n",
    "Base class for neural network modules, all building blocks for nns are subclasses. If you build a neural network, your models should subclass `nn.Module` -- this requires the implementation of a `forward()` method.\n",
    "\n",
    "**`torch.optim`** \\\n",
    "Contains optimization algorithms that tell model parameters sotred in `torch.nn.Parameter` how to best change to improve gradient descent and reduce loss.\n",
    "\n",
    "**`def forward()`** \\\n",
    "All `nn.Module` subclasses require a `forward()` method, this defines the computation that will take place on the data passed to the module, e.g. the linear regression formula above.\n",
    "\n",
    "**Summary**\n",
    "- `nn.Module` contains larger building blocks (layers)\n",
    "- `nn.Parameter` contains smaller parameters like weights and biases\n",
    "- `forward()` tells larger blocks how to make calculations on inputs within the module\n",
    "- `torch.optim` contains methods on how to improve the parameters to better represent the input data\n",
    "\n",
    "### Checking contents of PyTorch model"
   ]
  },
  {
   "cell_type": "code",
   "execution_count": 72,
   "metadata": {},
   "outputs": [
    {
     "data": {
      "text/plain": [
       "[Parameter containing:\n",
       " tensor([0.3367], requires_grad=True),\n",
       " Parameter containing:\n",
       " tensor([0.1288], requires_grad=True)]"
      ]
     },
     "execution_count": 72,
     "metadata": {},
     "output_type": "execute_result"
    }
   ],
   "source": [
    "torch.manual_seed(42)\n",
    "\n",
    "model_0 = LinearRegressionModel()\n",
    "list(model_0.parameters())"
   ]
  },
  {
   "cell_type": "code",
   "execution_count": 73,
   "metadata": {},
   "outputs": [
    {
     "data": {
      "text/plain": [
       "OrderedDict([('weights', tensor([0.3367])), ('bias', tensor([0.1288]))])"
      ]
     },
     "execution_count": 73,
     "metadata": {},
     "output_type": "execute_result"
    }
   ],
   "source": [
    "# Get state (what model contains)\n",
    "model_0.state_dict()"
   ]
  },
  {
   "attachments": {},
   "cell_type": "markdown",
   "metadata": {},
   "source": [
    "We start from random values (initialized above using `torch.randn()`) and get the model to update them to parameters that fit our data best.\n",
    "\n",
    "### Making predictions using `torch.inference_mode()`\n",
    "\n",
    "To check this, we can pass `X_test` and see how closely it predicts `y_test`.\n",
    "\n",
    "When we pass data to the model, it goes through the model's `forward()` method and produces a result based on the computation we have defined."
   ]
  },
  {
   "cell_type": "code",
   "execution_count": 74,
   "metadata": {},
   "outputs": [],
   "source": [
    "with torch.inference_mode():\n",
    "    y_preds = model_0(X_test)"
   ]
  },
  {
   "attachments": {},
   "cell_type": "markdown",
   "metadata": {},
   "source": [
    "`torch.inference_mode()` turns off a bunch of things, such as gradient tracking which is necessary for training but not for inference to make **forward-passes** faster."
   ]
  },
  {
   "cell_type": "code",
   "execution_count": 75,
   "metadata": {},
   "outputs": [
    {
     "name": "stdout",
     "output_type": "stream",
     "text": [
      "Number of testing samples: 10\n",
      "Number of predictions made: 10\n",
      "Predicted values:\n",
      "tensor([[0.3982],\n",
      "        [0.4049],\n",
      "        [0.4116],\n",
      "        [0.4184],\n",
      "        [0.4251],\n",
      "        [0.4318],\n",
      "        [0.4386],\n",
      "        [0.4453],\n",
      "        [0.4520],\n",
      "        [0.4588]])\n"
     ]
    }
   ],
   "source": [
    "print(f\"Number of testing samples: {len(X_test)}\")\n",
    "print(f\"Number of predictions made: {len(y_preds)}\")\n",
    "print(f\"Predicted values:\\n{y_preds}\")"
   ]
  },
  {
   "attachments": {},
   "cell_type": "markdown",
   "metadata": {},
   "source": [
    "Notice how there is one prediction value per testing sample. This is because of the data we are using, one `X` value maps to one `y` value.\n",
    "\n",
    "Machine learning models are flexible, meaning there can be 100 `X` valeus mapping to 10 `y` values."
   ]
  },
  {
   "cell_type": "code",
   "execution_count": 76,
   "metadata": {},
   "outputs": [
    {
     "data": {
      "image/png": "[encoded data removed]",
      "text/plain": [
       "<Figure size 1000x700 with 1 Axes>"
      ]
     },
     "metadata": {},
     "output_type": "display_data"
    }
   ],
   "source": [
    "plot_predictions(predictions=y_preds)"
   ]
  },
  {
   "cell_type": "code",
   "execution_count": 77,
   "metadata": {},
   "outputs": [
    {
     "data": {
      "text/plain": [
       "tensor([[0.4618],\n",
       "        [0.4691],\n",
       "        [0.4764],\n",
       "        [0.4836],\n",
       "        [0.4909],\n",
       "        [0.4982],\n",
       "        [0.5054],\n",
       "        [0.5127],\n",
       "        [0.5200],\n",
       "        [0.5272]])"
      ]
     },
     "execution_count": 77,
     "metadata": {},
     "output_type": "execute_result"
    }
   ],
   "source": [
    "y_test - y_preds"
   ]
  },
  {
   "attachments": {},
   "cell_type": "markdown",
   "metadata": {},
   "source": [
    "The reason these predictions aren't close is because we are just using random parameter values to make the predictions. \n",
    "\n",
    "It has not yet looked at the blue dots to make a prediction about the green dots.\n",
    "\n",
    "## 3. Train model\n",
    "\n",
    "Right now the model is making predictions using random parameters, essentially guessing.\n",
    "\n",
    "To fix that, we can update the model's internal parameters. \n",
    "\n",
    "We can hardcode them, since we know the values are `weight = 7, bias = 0.3`, but much of the time we won't have this prior information. Instead, we can let the model try to find out what they are.\n",
    "\n",
    "\n",
    "### Creating a loss function and optimizer in PyTorch\n",
    "\n",
    "In order for the model to update the parameters, we need to add a **loss function** and an **optimizer**.\n",
    "\n",
    "**Loss Function**\n",
    "- measures how wrong your predictions are\n",
    "- many built-in loss functions in `torch.nn`\n",
    "- Common values:\n",
    "  * `torch.nn.L1Loss()` (mean absolute error, for regression problems)\n",
    "  * `torch.nn.BCELoss()` (binary cross entropy, for binary classification problems)\n",
    "\n",
    "**Optimizer**\n",
    "- tells model how to update parameters to lower loss\n",
    "- functions in `torch.optim`\n",
    "- Common values:\n",
    "  * `torch.optim.SGD()` (stochastic gradient descent)\n",
    "  * `torch.optim.Adam()` (adam optimizer)\n",
    "  \n",
    "Use MAE in this case. MAE measures the absolute difference between two points (predictions and labels) and then takes the mean across all examples.\n",
    "\n",
    "For optimization, use SGD (`torch.optims.SGD(params, lr))`, where\n",
    "- `params` is the target model parameters to optimize\n",
    "- `lr` is the learning rate:\n",
    "  * lower means smaller updates, which can sometimes be too small and take too much time\n",
    "  * higher means larger updates, which can be too large and fail as a result\n",
    "  * common startning values are `0.01`, `0.001`, `0.0001`, these can however be changed over time using **learning rate scheduling**"
   ]
  },
  {
   "cell_type": "code",
   "execution_count": 78,
   "metadata": {},
   "outputs": [],
   "source": [
    "loss_fn = nn.L1Loss()\n",
    "\n",
    "optimizer = torch.optim.SGD(params=model_0.parameters(),\n",
    "                            lr=0.01)"
   ]
  },
  {
   "attachments": {},
   "cell_type": "markdown",
   "metadata": {},
   "source": [
    "### Creating an optimization loop\n",
    "\n",
    "The training loop involves the model going through the training data and learning the relationships between `features` and `labels`\n",
    "\n",
    "The testing loop involves going through testing data and evaluating how good the patterns are which we learned on the training data.\n",
    "\n",
    "Each of these is called \"loop\", since we are looping through the samples in the datasets.\n",
    "\n",
    "### PyTorch training loop\n",
    "\n",
    "1. Forward Pass\n",
    "   - go through all training data once, perform `forward()` calculation\n",
    "2. Calculate Loss\n",
    "   - compare predictions (output) to ground truth and see how wrong they are\n",
    "3. Zero gradients\n",
    "   - set optimizers gradients to zero so they can be recalculated\n",
    "4. Perform backpropagation on the loss\n",
    "   - compute gradient of loss with respect for every model parameter to be updated (each parameter with `requires_grad=True`)\n",
    "5. Update the optimizer (**gradient descent**)\n",
    "   - update parameters with `requires_grad=True` with respect to loss gradients"
   ]
  },
  {
   "attachments": {},
   "cell_type": "markdown",
   "metadata": {},
   "source": [
    "### PyTorch testing loop\n",
    "\n",
    "1. Forward Pass\n",
    "   - go through all training data once, perform `forward()` calculation\n",
    "2. Calculate the loss\n",
    "   - compare predictions (output) to ground truth and see how wrong they are\n",
    "3. Calculate evaluation metrics (optional)\n",
    "   - alongside the loss value we might want other evaluation metrics\n",
    "\n",
    "Notice how we don't have backpropagation or optimizer updating, since we don't want to change the model parameters during testing. We are only interested in the output of the forward pass through the model."
   ]
  },
  {
   "attachments": {},
   "cell_type": "markdown",
   "metadata": {},
   "source": [
    "Put all of the above together and train the model for **100 epochs** (forward passes through the data), and evaluate every 10 epochs."
   ]
  },
  {
   "cell_type": "code",
   "execution_count": 79,
   "metadata": {},
   "outputs": [
    {
     "name": "stdout",
     "output_type": "stream",
     "text": [
      "Epoch: 0 | MAE train loss: 0.31288138031959534 | MAE test loss: 0.48106518387794495\n",
      "Epoch: 10 | MAE train loss: 0.1976713240146637 | MAE test loss: 0.3463551998138428\n",
      "Epoch: 20 | MAE train loss: 0.08908725529909134 | MAE test loss: 0.21729660034179688\n",
      "Epoch: 30 | MAE train loss: 0.053148526698350906 | MAE test loss: 0.14464017748832703\n",
      "Epoch: 40 | MAE train loss: 0.04543796554207802 | MAE test loss: 0.11360953003168106\n",
      "Epoch: 50 | MAE train loss: 0.04167863354086876 | MAE test loss: 0.09919948130846024\n",
      "Epoch: 60 | MAE train loss: 0.03818932920694351 | MAE test loss: 0.08886633068323135\n",
      "Epoch: 70 | MAE train loss: 0.03476089984178543 | MAE test loss: 0.0805937647819519\n",
      "Epoch: 80 | MAE train loss: 0.03132382780313492 | MAE test loss: 0.07232122868299484\n",
      "Epoch: 90 | MAE train loss: 0.02788739837706089 | MAE test loss: 0.06473556160926819\n"
     ]
    }
   ],
   "source": [
    "torch.manual_seed(42)\n",
    "\n",
    "epochs = 100\n",
    "\n",
    "train_loss_values = []\n",
    "test_loss_values = []\n",
    "epoch_count = []\n",
    "\n",
    "for epoch in range(0, epochs):\n",
    "    ### Training\n",
    "    \n",
    "    # Put model in training mode (default state of model)\n",
    "    model_0.train()\n",
    "    \n",
    "    # 1. Forward pass on training data using forward() method\n",
    "    y_pred = model_0(X_train)\n",
    "    \n",
    "    # 2. Calculate the loss (how different are our predictions to the ground truth?)\n",
    "    loss = loss_fn(y_pred, y_train)\n",
    "    \n",
    "    # 3. Zero grad of the optimizer\n",
    "    optimizer.zero_grad()\n",
    "    \n",
    "    # 4. Loss backwards\n",
    "    loss.backward()\n",
    "    \n",
    "    # 5. Progress the optimizer\n",
    "    optimizer.step()\n",
    "    \n",
    "    ### Testing\n",
    "    \n",
    "    # Put the model in evaluation mode\n",
    "    model_0.eval()\n",
    "    \n",
    "    with torch.inference_mode():\n",
    "        # 1. Forward pass on test data\n",
    "        test_pred = model_0(X_test)\n",
    "        \n",
    "        # 2. Calculate loss on test data\n",
    "        test_loss = loss_fn(test_pred, y_test.type(torch.float)) # preds are in torch.float, so comparisons need to be of the same type\n",
    "        \n",
    "        # Print out what's happening\n",
    "        if epoch % 10 == 0:\n",
    "            epoch_count.append(epoch)\n",
    "            train_loss_values.append(loss.detach().numpy())\n",
    "            test_loss_values.append(test_loss.detach().numpy())\n",
    "            print(f\"Epoch: {epoch} | MAE train loss: {loss} | MAE test loss: {test_loss}\")"
   ]
  },
  {
   "attachments": {},
   "cell_type": "markdown",
   "metadata": {},
   "source": [
    "The loss is going down with each epoch."
   ]
  },
  {
   "cell_type": "code",
   "execution_count": 80,
   "metadata": {},
   "outputs": [
    {
     "data": {
      "image/png": "[encoded data removed]",
      "text/plain": [
       "<Figure size 640x480 with 1 Axes>"
      ]
     },
     "metadata": {},
     "output_type": "display_data"
    }
   ],
   "source": [
    "plt.plot(epoch_count, train_loss_values, label=\"Train loss\")\n",
    "plt.plot(epoch_count, test_loss_values, label=\"Test loss values\")\n",
    "plt.title(\"Training and test loss curves\")\n",
    "plt.xlabel(\"Epochs\")\n",
    "plt.ylabel(\"Loss\")\n",
    "plt.legend();"
   ]
  },
  {
   "attachments": {},
   "cell_type": "markdown",
   "metadata": {},
   "source": [
    "The loss curve is going down thanks to our loss function and optimizer, which update the model's internal parameters `weight` and `bias` to better reflect the underlying patters within the data."
   ]
  },
  {
   "cell_type": "code",
   "execution_count": 81,
   "metadata": {},
   "outputs": [
    {
     "name": "stdout",
     "output_type": "stream",
     "text": [
      "The model learned the following values for weights and bias:\n",
      "OrderedDict([('weights', tensor([0.5784])), ('bias', tensor([0.3513]))])\n",
      "The original values for weight and bias were: 0.7, 0.3\n"
     ]
    }
   ],
   "source": [
    "print(\"The model learned the following values for weights and bias:\")\n",
    "print(model_0.state_dict())\n",
    "print(f\"The original values for weight and bias were: {weight}, {bias}\")"
   ]
  },
  {
   "attachments": {},
   "cell_type": "markdown",
   "metadata": {},
   "source": [
    "The model got pretty close to calculating the original values for `weight` and `bias`, and would probably get even closer if we trained it for longer. it would likely never guess them perfectly, but that's okay since approximation can already be very helpful.\n",
    "\n",
    "This is the idea of machine learning and deep learning. There are some **ideal values** that describe our data, and we can **train a model to figure them out** (or come close to them) programmatically."
   ]
  }
 ],
 "metadata": {
  "kernelspec": {
   "display_name": "Python 3",
   "language": "python",
   "name": "python3"
  },
  "language_info": {
   "codemirror_mode": {
    "name": "ipython",
    "version": 3
   },
   "file_extension": ".py",
   "mimetype": "text/x-python",
   "name": "python",
   "nbconvert_exporter": "python",
   "pygments_lexer": "ipython3",
   "version": "3.10.6"
  },
  "orig_nbformat": 4,
  "vscode": {
   "interpreter": {
    "hash": "d0620f40e2353b6d35268ab276de4393f4e99801270e1c452fb1fe73380c5b64"
   }
  }
 },
 "nbformat": 4,
 "nbformat_minor": 2
}
