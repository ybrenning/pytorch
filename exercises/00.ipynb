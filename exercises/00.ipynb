{
 "cells": [
  {
   "cell_type": "code",
   "execution_count": 1,
   "metadata": {},
   "outputs": [
    {
     "data": {
      "text/plain": [
       "(tensor([[0.8582, 0.4163, 0.8059, 0.1968, 0.1276, 0.5707, 0.6424],\n",
       "         [0.9073, 0.7256, 0.8208, 0.7539, 0.9291, 0.0490, 0.5678],\n",
       "         [0.7983, 0.2504, 0.3707, 0.1348, 0.7632, 0.6214, 0.8386],\n",
       "         [0.2678, 0.5535, 0.2251, 0.4323, 0.1435, 0.6661, 0.8805],\n",
       "         [0.8022, 0.9836, 0.7537, 0.3682, 0.0386, 0.6036, 0.9372],\n",
       "         [0.6113, 0.8610, 0.8797, 0.7289, 0.9664, 0.0533, 0.8094],\n",
       "         [0.1957, 0.7726, 0.4013, 0.5863, 0.8418, 0.8915, 0.4419]]),\n",
       " torch.Size([7, 7]))"
      ]
     },
     "execution_count": 1,
     "metadata": {},
     "output_type": "execute_result"
    }
   ],
   "source": [
    "import torch\n",
    "\n",
    "X = torch.rand(7, 7)\n",
    "X, X.shape"
   ]
  },
  {
   "cell_type": "code",
   "execution_count": 2,
   "metadata": {},
   "outputs": [
    {
     "data": {
      "text/plain": [
       "(tensor([[0.8961, 0.9094, 0.8276, 0.2577, 0.9100, 0.6449, 0.1556]]),\n",
       " tensor([[2.4494],\n",
       "         [3.3118],\n",
       "         [2.5103],\n",
       "         [1.7382],\n",
       "         [2.9023],\n",
       "         [3.2864],\n",
       "         [2.7708]]),\n",
       " torch.Size([7, 1]))"
      ]
     },
     "execution_count": 2,
     "metadata": {},
     "output_type": "execute_result"
    }
   ],
   "source": [
    "Y = torch.rand(1, 7)\n",
    "Z = torch.matmul(X, Y.T)\n",
    "Y, Z, Z.shape"
   ]
  },
  {
   "cell_type": "code",
   "execution_count": 4,
   "metadata": {},
   "outputs": [
    {
     "data": {
      "text/plain": [
       "(tensor([[1.8542],\n",
       "         [1.9611],\n",
       "         [2.2884],\n",
       "         [3.0481],\n",
       "         [1.7067],\n",
       "         [2.5290],\n",
       "         [1.7989]]),\n",
       " torch.Size([7, 1]))"
      ]
     },
     "execution_count": 4,
     "metadata": {},
     "output_type": "execute_result"
    }
   ],
   "source": [
    "torch.manual_seed(0)\n",
    "\n",
    "X = torch.rand(7, 7)\n",
    "Y = torch.rand(1, 7)\n",
    "Z = torch.matmul(X, Y.T)\n",
    "Z, Z.shape"
   ]
  },
  {
   "cell_type": "code",
   "execution_count": 5,
   "metadata": {},
   "outputs": [
    {
     "data": {
      "text/plain": [
       "(tensor([[0.3647, 0.4709],\n",
       "         [0.5184, 0.5617]]),\n",
       " torch.Size([2, 2]))"
      ]
     },
     "execution_count": 5,
     "metadata": {},
     "output_type": "execute_result"
    }
   ],
   "source": [
    "torch.manual_seed(1234)\n",
    "X = torch.rand(2, 3)\n",
    "Y = torch.rand(2, 3)\n",
    "Z = torch.matmul(X, Y.T)\n",
    "Z, Z.shape"
   ]
  },
  {
   "cell_type": "code",
   "execution_count": 6,
   "metadata": {},
   "outputs": [
    {
     "data": {
      "text/plain": [
       "(tensor(0.5617), tensor(0.3647))"
      ]
     },
     "execution_count": 6,
     "metadata": {},
     "output_type": "execute_result"
    }
   ],
   "source": [
    "Z.max(), Z.min()"
   ]
  },
  {
   "cell_type": "code",
   "execution_count": 7,
   "metadata": {},
   "outputs": [
    {
     "data": {
      "text/plain": [
       "(tensor([[[[0.5349, 0.1988, 0.6592, 0.6569, 0.2328, 0.4251, 0.2071, 0.6297,\n",
       "            0.3653, 0.8513]]]]),\n",
       " torch.Size([1, 1, 1, 10]),\n",
       " tensor([0.5349, 0.1988, 0.6592, 0.6569, 0.2328, 0.4251, 0.2071, 0.6297, 0.3653,\n",
       "         0.8513]),\n",
       " torch.Size([10]))"
      ]
     },
     "execution_count": 7,
     "metadata": {},
     "output_type": "execute_result"
    }
   ],
   "source": [
    "torch.manual_seed(7)\n",
    "X = torch.rand(1, 1, 1, 10)\n",
    "Y = torch.squeeze(X)\n",
    "X, X.shape, Y, Y.shape"
   ]
  }
 ],
 "metadata": {
  "kernelspec": {
   "display_name": "Python 3",
   "language": "python",
   "name": "python3"
  },
  "language_info": {
   "codemirror_mode": {
    "name": "ipython",
    "version": 3
   },
   "file_extension": ".py",
   "mimetype": "text/x-python",
   "name": "python",
   "nbconvert_exporter": "python",
   "pygments_lexer": "ipython3",
   "version": "3.10.6"
  },
  "orig_nbformat": 4,
  "vscode": {
   "interpreter": {
    "hash": "d0620f40e2353b6d35268ab276de4393f4e99801270e1c452fb1fe73380c5b64"
   }
  }
 },
 "nbformat": 4,
 "nbformat_minor": 2
}
